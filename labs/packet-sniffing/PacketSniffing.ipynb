{
  "nbformat": 4,
  "nbformat_minor": 0,
  "metadata": {
    "colab": {
      "name": "PacketSniffing.ipynb",
      "private_outputs": true,
      "provenance": [],
      "collapsed_sections": [],
      "authorship_tag": "ABX9TyM/x3CiOGxV45TQeA0gVQo+",
      "include_colab_link": true
    },
    "kernelspec": {
      "name": "python3",
      "display_name": "Python 3"
    },
    "language_info": {
      "name": "python"
    }
  },
  "cells": [
    {
      "cell_type": "markdown",
      "metadata": {
        "id": "view-in-github",
        "colab_type": "text"
      },
      "source": [
        "<a href=\"https://colab.research.google.com/github/BoiseState/CS100-Public/blob/master/labs/packet-sniffing/PacketSniffing.ipynb\" target=\"_parent\"><img src=\"https://colab.research.google.com/assets/colab-badge.svg\" alt=\"Open In Colab\"/></a>"
      ]
    },
    {
      "cell_type": "code",
      "source": [
        "# import needed resources\n",
        "!pip3 install scapy # this might take a minute the first time\n",
        "from scapy.all import *"
      ],
      "metadata": {
        "id": "ELwadJ6vIyvg"
      },
      "execution_count": null,
      "outputs": []
    },
    {
      "cell_type": "code",
      "source": [
        "# Load packet file and save packets with useable data\n",
        "pcap = rdpcap(\"packet_capture.pcap\")\n",
        "pcap = [pkt for pkt in pcap if TCP in pkt]\n"
      ],
      "metadata": {
        "id": "nEPj0bIpI_uM"
      },
      "execution_count": null,
      "outputs": []
    },
    {
      "cell_type": "code",
      "source": [
        "# Look at one packet.  It gives you bunch of information, like \n",
        "#         [IP].dst - IP address for the destination of the packet, \n",
        "#         [IP].src - IP address of who sent the packet, \n",
        "#         [TCP].dport - port to which the packet should be routed\n",
        "# Remember, TCP is one of the network layers.\n",
        "# Ports are used to direct packets to specific programs on your computer.\n",
        "# You can find more information about ports here: https://ipcisco.com/lesson/network-ports/ \n",
        "\n",
        "# Print the first packet in the list of packets\n",
        "pcap[0]\n",
        "\n"
      ],
      "metadata": {
        "id": "NuStGDjvMCH0"
      },
      "execution_count": null,
      "outputs": []
    },
    {
      "cell_type": "code",
      "source": [
        "# Try printing a different packet in the list.  Put a different number\n",
        "# in the brackets - something between 0 and ~2000\n",
        "pcap[  ]\n"
      ],
      "metadata": {
        "id": "v2JjkFDANzUe"
      },
      "execution_count": null,
      "outputs": []
    },
    {
      "cell_type": "code",
      "source": [
        "# The packets can be queried for specific information\n",
        "packet = pcap[0]  # Store the first packet in a variable\n",
        "print(\"Source IP: \" + packet[IP].src)\n",
        "print(\"Destination IP: \" + packet[IP].dst)\n",
        "print(\"Source port: \" + str(packet[TCP].sport))\n",
        "print(\"Destinations port: \" + str(packet[TCP].dport))\n",
        "print(\"Packet Payload: \" + str(packet[TCP].payload))\n"
      ],
      "metadata": {
        "id": "7RDrbiqGORqJ"
      },
      "execution_count": null,
      "outputs": []
    },
    {
      "cell_type": "code",
      "source": [
        "# Fill in the for loop to print the first 5 packets' information\n",
        "# Remember range creates values from 0 up to (but not including) the parameter value\n",
        "for i in range( ??):\n",
        "  packet = pcap[i]\n",
        "  print(\"Source IP: \" + packet[IP].src)\n",
        "  print(\"Destination IP: \" + packet[IP].dst)\n",
        "  print(\"Source port: \" + str(packet[TCP].sport))\n",
        "  print(\"Destinations port: \" + str(packet[TCP].dport))\n",
        "  print(\"Packet Payload: \" + str(packet[TCP].payload))\n"
      ],
      "metadata": {
        "id": "H8B7HSVSOc3y"
      },
      "execution_count": null,
      "outputs": []
    },
    {
      "cell_type": "markdown",
      "source": [
        "Now that we've looked at some of the network traffic captured, let's spy on the coffee shop users.  We want to find out what they're doing while they're connected to the coffee shop network."
      ],
      "metadata": {
        "id": "7dehf12oO3nc"
      }
    },
    {
      "cell_type": "code",
      "source": [
        "# We want to find the network traffic coming from the coffee shop\n",
        "# The coffee shop's IP address is 10.3.0.18\n",
        "# Packets coming from the coffee shop have the same subnet as you. \n",
        "# In other words, their IP addresses start with 10.3.0.\n",
        "# Fill in the for loop to create a list of packets that are coming from the coffee shop\n",
        "\n",
        "# The packets we're interested in have IP addresses\n",
        "# that start with 10.3.0.\n",
        "ip_start = \"10.3.0\" \n",
        "\n",
        "# store the number of packets read from the file\n",
        "number_packets = len(pcap) \n",
        "\n",
        "# new list to store the coffee shop packets in\n",
        "shop_ip_addrs = []\n",
        "\n",
        "# Iterate through the list\n",
        "# packet will be set to each element in the list\n",
        "for packet in pcap:\n",
        "  # store the packet's source IP address\n",
        "  source_ip =   ??? # use the previous code block to find this value\n",
        "  # if the ip address matches the store's and we haven't already seen the address\n",
        "  if ip_start in source_ip and source_ip not in shop_ip_addrs:\n",
        "    # add the ip address to the list\n",
        "    shop_ip_addrs.append(??? # what variable holds the current packet's source ip?)"
      ],
      "metadata": {
        "id": "3rHih2-mOx2l"
      },
      "execution_count": null,
      "outputs": []
    },
    {
      "cell_type": "markdown",
      "source": [
        "#Question\n",
        "How many different ip addresses are at the coffee shop?  (Hint: Use len to find how many elements are in shop_ip_addrs)"
      ],
      "metadata": {
        "id": "GkPB8ihURCDp"
      }
    },
    {
      "cell_type": "code",
      "source": [
        "# Scratch code block for you to find the answer\n",
        "\n",
        "# ans : 4"
      ],
      "metadata": {
        "id": "9lz_HppyRSp6"
      },
      "execution_count": null,
      "outputs": []
    },
    {
      "cell_type": "markdown",
      "source": [
        "At this point, shop_id_addrs should contain unique IP addresses from devices connected to the coffee shop's network. \n",
        "\n",
        "In the next section, we're going to look through the data to see what information we can find.  Each device will send and recieve many packets. To find the information for a particular device, we will need to gather all of the packets that are sent to or from that device's IP address."
      ],
      "metadata": {
        "id": "WExw3ZL0RyLo"
      }
    },
    {
      "cell_type": "markdown",
      "source": [
        "## Email Sniffing\n",
        "Let's snoop on some email!  Remember that when packets are sent to a device, they're directed to a particular port for processing. Email packets are sent to port 25 or port 143. \n",
        "\n",
        "To process the packets, we will\n",
        "\n",
        "\n",
        "1.   Choose one of the IP addresses from *shop_ip_addrs* as the target of our snooping\n",
        "2.   Find all of the packets directed to or from the chosen IP address\n",
        "3.  Keep only the packets going to port 25 or port 143 (*packet[TCP].dport == 80*)\n",
        "4. After the packets are filtered, look at the data in each packet.  The data is stored in the payload of the packet (*packet[TCP].payload*)\n",
        "\n"
      ],
      "metadata": {
        "id": "G-NJrbEQTvFY"
      }
    },
    {
      "cell_type": "code",
      "source": [
        "# store the IP address on which to snoop\n",
        "ip_address = shop_ip_addrs[0] \n",
        "\n",
        "# new list to store all the packets to or from ip_address\n",
        "mail_packets = []  \n",
        "\n",
        "print(\"Gathering packets for IP address \" + ip_address)\n",
        "\n",
        "# Iterate through the list of all the packets\n",
        "for packet in pcap:\n",
        "  # check if the current packet is coming to or from ip_address\n",
        "  if packet[IP].src == ip_address or packet[IP].dst == ip_address:\n",
        "    # check if the current packet is going to an email port\n",
        "    if packet[TCP].dport == 25 or packet[TCP].dport == 143:\n",
        "        # if yes and yes, add the packet to list\n",
        "        mail_packets.append(packet)"
      ],
      "metadata": {
        "id": "twepbD84SKX6"
      },
      "execution_count": null,
      "outputs": []
    },
    {
      "cell_type": "markdown",
      "source": [
        "#Question\n",
        "How many email packets were found?"
      ],
      "metadata": {
        "id": "JBO65XH6VTi1"
      }
    },
    {
      "cell_type": "code",
      "source": [
        "# Scratch code block to help answer the question above\n",
        "\n",
        "# answer: len(mail_packets)"
      ],
      "metadata": {
        "id": "9zUH-77uVgkE"
      },
      "execution_count": null,
      "outputs": []
    },
    {
      "cell_type": "code",
      "source": [
        "# To get the data from the packet, we need to look at the payload\n",
        "# Let's get the payload from each packet, ignoring any packet that doesn't \n",
        "# have any data\n",
        "\n",
        "# list to store the payloads (data)\n",
        "payloads = []\n",
        "\n",
        "# Iterate through the mail packets\n",
        "for packet in mail_packets:\n",
        "  # if the data is longer than 0\n",
        "  if len(packet[TCP].payload) > 0:\n",
        "    # add the data to the list\n",
        "    payloads.append(packet[TCP].payload)"
      ],
      "metadata": {
        "id": "bBKtRNI7VyQI"
      },
      "execution_count": null,
      "outputs": []
    },
    {
      "cell_type": "code",
      "source": [
        "# Let's see the payload \n",
        "# Write a for loop that prints each payload \n",
        "# (Hint: Write a for loop that prints each element of\n",
        "# payloads)\n",
        "\n",
        "for data in ? #name of list  :  # don't forget to end this line with a colon\n",
        "  print(# what variable holds the element of the list?)"
      ],
      "metadata": {
        "id": "f2fBi5P_WM5k"
      },
      "execution_count": null,
      "outputs": []
    },
    {
      "cell_type": "markdown",
      "source": [
        "#Question\n",
        "If you look carefully, you should see some email log in information and emails that were sent or read.\n",
        "\n",
        "What is the log-in information?  (jason.smith164@aol.com, pwd: soopersekrit)\n"
      ],
      "metadata": {
        "id": "0PuRErjvWpdW"
      }
    },
    {
      "cell_type": "markdown",
      "source": [
        "#Question\n",
        "\n",
        "What are the emails about?  (Travel, *Medical Records, Finances, Chatting with friends)\n"
      ],
      "metadata": {
        "id": "EKCVe_IJXBOh"
      }
    },
    {
      "cell_type": "markdown",
      "source": [
        "# Snoop on a different device's email"
      ],
      "metadata": {
        "id": "wqSKuU5eXVEy"
      }
    },
    {
      "cell_type": "code",
      "source": [
        "# Remember the IP addresses coming from the coffee shop\n",
        "print(\"IP addresses at the coffe shop:\")\n",
        "for address in shop_ip_addrs:\n",
        "  print(address)"
      ],
      "metadata": {
        "id": "wA6jhbW0XdxP"
      },
      "execution_count": null,
      "outputs": []
    },
    {
      "cell_type": "code",
      "source": [
        "# Choose a different IP address (except 10.3.0.18 - we'll look closer at that one in a second)\n",
        "ip_address =  # fill in with an IP address from the shop_ip_addrs\n",
        "\n",
        "# Get the payloads and print them\n",
        "\n",
        "# You can do this with two lists like above or print the payload\n",
        "# immediately after you find it\n",
        "\n",
        "\n",
        "\n",
        "\n",
        "\n",
        "# Stuck? Here's a hint:\n",
        "#for packet in pcap:\n",
        "  # check if the current packet is coming to or from ip_address\n",
        "    # check if packet is going to port 143 or port 25\n",
        "      # if the data is longer than 0\n",
        "        # print the payload\n",
        "\n",
        "\n",
        "\n",
        "# Sample answer\n",
        "for packet in pcap:\n",
        "  if packet[IP].src == ip_address or packet[IP].dst == ip_address:\n",
        "    if packet[TCP].dport == 25 or packet[TCP].dport == 143:\n",
        "      if len(packet[TCP].payload) > 0:\n",
        "        print(packet[TCP].payload)\n"
      ],
      "metadata": {
        "id": "uAHO0hCjXaAL"
      },
      "execution_count": null,
      "outputs": []
    },
    {
      "cell_type": "markdown",
      "source": [
        "#Question\n",
        "\n",
        "What IP address did you choose?\n",
        "\n",
        "\n",
        "What is the login information for that IP address?\n"
      ],
      "metadata": {
        "id": "0n71mZ4tZIZQ"
      }
    },
    {
      "cell_type": "code",
      "source": [
        "# Now look at the data from IP address 10.3.0.18. (Use your code from the\n",
        "# last code block using ip_address = \"10.3.0.18\")  \n"
      ],
      "metadata": {
        "id": "akL1g2nGZeKA"
      },
      "execution_count": null,
      "outputs": []
    },
    {
      "cell_type": "markdown",
      "source": [
        "#Question\n",
        "What information can you get about this IP address's email? (Same as before, only their log in, only the messages, nothing but a bunch of garbage)\n"
      ],
      "metadata": {
        "id": "TrYN73hDZuk7"
      }
    },
    {
      "cell_type": "markdown",
      "source": [
        " You should have gotten something very different than the data from the other packets.  It's actually  encrypted data.  The data has been encoded, like a secret message,  and has to be decoded to be read.  Since we're not the target recipient (and are trying to steal data), we don't have the secret  key to decode the message and cannot read it.\n",
        "\n",
        " Let's look at why this address is different than the others.\n"
      ],
      "metadata": {
        "id": "yuoVX8K7anl7"
      }
    },
    {
      "cell_type": "code",
      "source": [
        "# Let's look at what other websites the users are visiting.\n",
        "# We need to look at port 80, which is a web server request\n",
        "\n",
        "ip_address = shop_ip_addrs[0]\n",
        "\n",
        "# Get webpage packets coming from this IP address\n",
        "webpage_packets = []\n",
        "\n",
        "for packet in pcap:\n",
        "  if packet[IP].src == ip_address and packet[TCP].dport == 80:\n",
        "        webpage_packets.append(packet)\n",
        "\n",
        "\n",
        "# Get webpage links visited by this IP address\n",
        "webpages_visited = []\n",
        "\n",
        "for packet in webpage_packets:\n",
        "  # Convert the payload to a string\n",
        "  payload_str = str(packet[TCP].payload)\n",
        "  if payload_str != \"\":\n",
        "    # Split the payload in to its different sections\n",
        "    sections = payload_str.split('\\\\r')\n",
        "    found_link = False\n",
        "    idx = 0\n",
        "    while not found_link and idx < len(sections):\n",
        "      section = sections[idx]\n",
        "      # Referer section contains the URL of the page visited\n",
        "      if \"Referer\" in section:\n",
        "        # Extract the URL\n",
        "        link = section.strip().split()[1]\n",
        "        if link not in webpages_visited:\n",
        "          # Add link to the list if it isn't already in the list\n",
        "          webpages_visited.append(link)\n",
        "        found_link = True\n",
        "      idx += 1\n",
        "\n",
        "# Print all the webpages visited\n",
        "print(\"Links visited by IP address \" + ip_address)\n",
        "for webpage in webpages_visited:\n",
        "  print(webpage)\n",
        "  print()\n"
      ],
      "metadata": {
        "id": "OFeILotta3bZ"
      },
      "execution_count": null,
      "outputs": []
    },
    {
      "cell_type": "markdown",
      "source": [
        "#Question\n",
        "What was the last webpage this person visited?  (http://en.wikipedia.org/wiki/Mania)\n"
      ],
      "metadata": {
        "id": "KtyAOiIqbqhh"
      }
    },
    {
      "cell_type": "code",
      "source": [
        "# Let's look at a different IP address\n",
        "# We're going to condense the above steps into a single loop\n",
        "ip_address = shop_ip_addrs[1]\n",
        "webpages_visited = []\n",
        "\n",
        "for packet in pcap:\n",
        "  # if the packet is coming to our ip address at port 80 and has a non-empty payload\n",
        "  if packet[IP].src == ip_address and packet[TCP].dport == 80 and len(packet[TCP].payload) > 0:\n",
        "    # Convert payload to a string\n",
        "    payload_str = str(packet[TCP].payload)\n",
        "    # Split into sections\n",
        "    sections = payload_str.split('\\\\r')\n",
        "    # Filter and only keep the Referer section\n",
        "    sections = [s for s in sections if \"Referer\" in s]\n",
        "\n",
        "    # if there was a Referer section\n",
        "    if len(sections) > 0:\n",
        "      # Split the section into ['Referer:', url] and keep the url\n",
        "      link = sections[0].strip().split()[1]\n",
        "      if link not in webpages_visited:\n",
        "        # Add link to the list if it isn't already in the list\n",
        "        webpages_visited.append(link)\n",
        "\n",
        "\n",
        "# Print the links visited\n",
        "print(\"Webpages visited by IP address \" + ip_address)\n",
        "for webpage in webpages_visited:\n",
        "  print(webpage)\n",
        "  print()\n"
      ],
      "metadata": {
        "id": "X1n-e30WbyxF"
      },
      "execution_count": null,
      "outputs": []
    },
    {
      "cell_type": "markdown",
      "source": [
        "#Question\n",
        "What topic was this person interested in? (*My Little Pony, Algebra, Medical Records, Smurfs, Cats)\n"
      ],
      "metadata": {
        "id": "a-EiaP61b8bO"
      }
    },
    {
      "cell_type": "code",
      "execution_count": null,
      "metadata": {
        "id": "5kHBMBsUIJYe"
      },
      "outputs": [],
      "source": [
        "\n",
        "# Back to IP 10.3.0.18.  Let's look at their web data.  \n",
        "# Fill in the loop below (use the loop above as a guide)\n",
        "ip_address =  # fill in\n",
        "webpages_visited =  # fill in\n",
        "\n",
        "for packet in pcap:\n",
        "  # if the packet is coming to our ip address at port 80 and has a non-empty payload\n",
        "  if packet[IP].src == ? and packet[TCP].dport == ? and len(packet[TCP].payload) > 0:  # fill in\n",
        "    # Convert payload to a string\n",
        "    payload_str = str(packet[TCP].payload)\n",
        "    # Split into sections\n",
        "    sections = payload_str.split('\\\\r')\n",
        "    # Filter and only keep payloads with HOST requests\n",
        "    sections = [s for s in sections if \"Host\" in s]\n",
        "\n",
        "    # if there was a Host section\n",
        "    if len(sections) > 0:\n",
        "      # Split the section into ['Host:', url] and keep the url\n",
        "      link = sections[0].strip().split()[1]\n",
        "      if ? not in webpages_visited:      # fill in\n",
        "        # Add link to the list if it isn't already in the list\n",
        "        #  ... add to webpages_visited        # fill in\n",
        "        \n",
        "\n",
        "# Print the links visited\n",
        "print(\"Webpages visited by IP address \" + ip_address)\n",
        "for webpage in webpages_visited:\n",
        "  print(webpage)\n",
        "  print()\n",
        "\n",
        "\n"
      ]
    },
    {
      "cell_type": "markdown",
      "source": [
        "#Question\n",
        "How many webpages were we able to sniff out? (2)\n",
        "\n"
      ],
      "metadata": {
        "id": "0-HiTHB3cUSk"
      }
    },
    {
      "cell_type": "code",
      "source": [
        "# We had to treat this one a little differently.  If you print all of\n",
        "# the payloads from this IP address, you'll see a bunch of encrypted\n",
        "# data, like we discussed before.  \n",
        "# The list you just printed in the last code block is the \n",
        "# only information we were able to sniff about what this person was doing.\n",
        "\n",
        "ip_address = \"10.3.0.18\"\n",
        "\n",
        "# Print all sniffed data to port 80\n",
        "# See if you can modify this loop to print all of the payloads, not just those from port 80\n",
        "for packet in pcap:\n",
        "  if packet[IP].src == ip_address and packet[TCP].dport == 80 and len(packet[TCP].payload) > 0:\n",
        "    payload_str = str(packet[TCP].payload)\n",
        "    print(payload_str)\n",
        "    print()\n",
        "\n"
      ],
      "metadata": {
        "id": "oGSt0DxhcZSi"
      },
      "execution_count": null,
      "outputs": []
    },
    {
      "cell_type": "markdown",
      "source": [
        "#Question\n",
        "What gives?  Look back at the URLS of the websites we were able to sniff.  \n",
        "\n",
        "1. What do they start with (the very first 5 characters, before www.)? (http)\n",
        "2. In your web browser, go to Canvas.  What does that URL start with(the very first 5 characters, before www.)? (https)\n",
        "3.  In your web browser, go to Boise State's homepage.  What does that URL start with(the very first 5 characters, before www.)? (https)\n",
        "4. In your web browser, go to http://www.example.com/.  Your browser\n",
        " should indicate that your connection is not secure.  In Firefox and\n",
        " Chrome, look at the very beginning of the address bar.\n",
        "\n"
      ],
      "metadata": {
        "id": "xRKlhsvIZ3um"
      }
    },
    {
      "cell_type": "markdown",
      "source": [
        "#Question\n",
        " In short, webpages using http send packets without encrypting them.\n",
        " Webpages using https encrypt their packets.  From the experiments you were just running, you now know that\n",
        " - (unecrypted/encrypted) packets are sent as (plain/encrypted) text and (can/cannot) be read by anyone"
      ],
      "metadata": {
        "id": "TvLlEZtNaUuO"
      }
    }
  ]
}